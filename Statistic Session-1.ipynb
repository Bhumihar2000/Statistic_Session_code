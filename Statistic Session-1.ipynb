{
 "cells": [
  {
   "cell_type": "code",
   "execution_count": 14,
   "id": "d83f478b",
   "metadata": {},
   "outputs": [],
   "source": [
    "# Mean, Median, Mode, Variance and standard deviation\n",
    "import numpy as np\n",
    "from statistics import mode, variance, stdev"
   ]
  },
  {
   "cell_type": "code",
   "execution_count": 7,
   "id": "6b888da2",
   "metadata": {},
   "outputs": [],
   "source": [
    "ages = [1,2,2,3,4,5,6,7,8]"
   ]
  },
  {
   "cell_type": "code",
   "execution_count": 9,
   "id": "c41a8a66",
   "metadata": {},
   "outputs": [
    {
     "data": {
      "text/plain": [
       "4.222222222222222"
      ]
     },
     "execution_count": 9,
     "metadata": {},
     "output_type": "execute_result"
    }
   ],
   "source": [
    "np.mean(ages)"
   ]
  },
  {
   "cell_type": "code",
   "execution_count": 10,
   "id": "3167ef5b",
   "metadata": {},
   "outputs": [
    {
     "data": {
      "text/plain": [
       "4.0"
      ]
     },
     "execution_count": 10,
     "metadata": {},
     "output_type": "execute_result"
    }
   ],
   "source": [
    "np.median(ages)"
   ]
  },
  {
   "cell_type": "code",
   "execution_count": 8,
   "id": "e4409b48",
   "metadata": {},
   "outputs": [
    {
     "data": {
      "text/plain": [
       "2"
      ]
     },
     "execution_count": 8,
     "metadata": {},
     "output_type": "execute_result"
    }
   ],
   "source": [
    "mode(ages)"
   ]
  },
  {
   "cell_type": "code",
   "execution_count": 12,
   "id": "d2d7cc9d",
   "metadata": {},
   "outputs": [
    {
     "data": {
      "text/plain": [
       "5.944444444444445"
      ]
     },
     "execution_count": 12,
     "metadata": {},
     "output_type": "execute_result"
    }
   ],
   "source": [
    "variance(ages)"
   ]
  },
  {
   "cell_type": "code",
   "execution_count": 15,
   "id": "6199aefd",
   "metadata": {},
   "outputs": [
    {
     "data": {
      "text/plain": [
       "2.438123139721299"
      ]
     },
     "execution_count": 15,
     "metadata": {},
     "output_type": "execute_result"
    }
   ],
   "source": [
    "stdev(ages)"
   ]
  },
  {
   "cell_type": "code",
   "execution_count": 16,
   "id": "b3efee29",
   "metadata": {},
   "outputs": [],
   "source": [
    "# Percentile\n",
    "ages = [1,2,2,3,4,5,6,7,8]"
   ]
  },
  {
   "cell_type": "code",
   "execution_count": 17,
   "id": "82f7e60a",
   "metadata": {},
   "outputs": [
    {
     "data": {
      "text/plain": [
       "array([4.])"
      ]
     },
     "execution_count": 17,
     "metadata": {},
     "output_type": "execute_result"
    }
   ],
   "source": [
    "np.percentile(ages,[50])"
   ]
  },
  {
   "cell_type": "code",
   "execution_count": 18,
   "id": "3995253b",
   "metadata": {},
   "outputs": [
    {
     "data": {
      "text/plain": [
       "array([2.])"
      ]
     },
     "execution_count": 18,
     "metadata": {},
     "output_type": "execute_result"
    }
   ],
   "source": [
    "np.percentile(ages, [25])"
   ]
  },
  {
   "cell_type": "code",
   "execution_count": 21,
   "id": "11844016",
   "metadata": {},
   "outputs": [],
   "source": [
    "# Five number summary and box plot\n",
    "age = [1,2,3,4,5,6,7,8,9,11,23,45,67,23,11,111,4567,898,1,23,21,23,45,45,56,456]"
   ]
  },
  {
   "cell_type": "code",
   "execution_count": 22,
   "id": "1b79d75f",
   "metadata": {},
   "outputs": [],
   "source": [
    "percentile_25 = np.percentile(age, [25])"
   ]
  },
  {
   "cell_type": "code",
   "execution_count": 23,
   "id": "8870b00f",
   "metadata": {},
   "outputs": [],
   "source": [
    "percentile_75 = np.percentile(age, [75])"
   ]
  },
  {
   "cell_type": "code",
   "execution_count": 24,
   "id": "2f4159e1",
   "metadata": {},
   "outputs": [
    {
     "data": {
      "text/plain": [
       "(array([6.25]), array([45.]))"
      ]
     },
     "execution_count": 24,
     "metadata": {},
     "output_type": "execute_result"
    }
   ],
   "source": [
    "percentile_25, percentile_75"
   ]
  },
  {
   "cell_type": "code",
   "execution_count": 25,
   "id": "561d16cd",
   "metadata": {},
   "outputs": [],
   "source": [
    "IQR = percentile_75 - percentile_25"
   ]
  },
  {
   "cell_type": "code",
   "execution_count": 26,
   "id": "71a86c8c",
   "metadata": {},
   "outputs": [
    {
     "data": {
      "text/plain": [
       "array([38.75])"
      ]
     },
     "execution_count": 26,
     "metadata": {},
     "output_type": "execute_result"
    }
   ],
   "source": [
    "IQR"
   ]
  },
  {
   "cell_type": "code",
   "execution_count": 27,
   "id": "ef2d7e31",
   "metadata": {},
   "outputs": [],
   "source": [
    "lower_fence = percentile_25 - 1.5 * (IQR)\n",
    "higher_fence = percentile_75 + 1.5 * (IQR)"
   ]
  },
  {
   "cell_type": "code",
   "execution_count": 28,
   "id": "aa912621",
   "metadata": {},
   "outputs": [
    {
     "data": {
      "text/plain": [
       "(array([-51.875]), array([103.125]))"
      ]
     },
     "execution_count": 28,
     "metadata": {},
     "output_type": "execute_result"
    }
   ],
   "source": [
    "lower_fence, higher_fence"
   ]
  },
  {
   "cell_type": "code",
   "execution_count": 29,
   "id": "58c8982e",
   "metadata": {},
   "outputs": [
    {
     "name": "stderr",
     "output_type": "stream",
     "text": [
      "C:\\Users\\ts-sachin.bhumihar\\Anaconda3\\lib\\site-packages\\seaborn\\_decorators.py:36: FutureWarning: Pass the following variable as a keyword arg: x. From version 0.12, the only valid positional argument will be `data`, and passing other arguments without an explicit keyword will result in an error or misinterpretation.\n",
      "  warnings.warn(\n"
     ]
    },
    {
     "data": {
      "text/plain": [
       "<AxesSubplot:>"
      ]
     },
     "execution_count": 29,
     "metadata": {},
     "output_type": "execute_result"
    },
    {
     "data": {
      "image/png": "[encoded data removed]",
      "text/plain": [
       "<Figure size 432x288 with 1 Axes>"
      ]
     },
     "metadata": {
      "needs_background": "light"
     },
     "output_type": "display_data"
    }
   ],
   "source": [
    "# box_plot\n",
    "import seaborn as sns\n",
    "sns.boxplot(age)"
   ]
  },
  {
   "cell_type": "code",
   "execution_count": 30,
   "id": "3b41eb7d",
   "metadata": {},
   "outputs": [],
   "source": [
    "# Second Example\n",
    "age1 = [12,13,14,15,16,17,18,19,20,21,22,23,24,25,26,27,28,29,30,31,32,33,21,34,24,24,104,234,13]"
   ]
  },
  {
   "cell_type": "code",
   "execution_count": 31,
   "id": "57d67a13",
   "metadata": {},
   "outputs": [],
   "source": [
    "percen_25 = np.percentile(age1, [25]) "
   ]
  },
  {
   "cell_type": "code",
   "execution_count": 32,
   "id": "ee7c89e5",
   "metadata": {},
   "outputs": [],
   "source": [
    "percen_75 = np.percentile(age1, [75])"
   ]
  },
  {
   "cell_type": "code",
   "execution_count": 33,
   "id": "23f4a5e8",
   "metadata": {},
   "outputs": [
    {
     "data": {
      "text/plain": [
       "(array([18.]), array([29.]))"
      ]
     },
     "execution_count": 33,
     "metadata": {},
     "output_type": "execute_result"
    }
   ],
   "source": [
    "percen_25, percen_75"
   ]
  },
  {
   "cell_type": "code",
   "execution_count": 34,
   "id": "842529db",
   "metadata": {},
   "outputs": [],
   "source": [
    "IQR = percen_75 - percen_25"
   ]
  },
  {
   "cell_type": "code",
   "execution_count": 35,
   "id": "9cabd0e7",
   "metadata": {},
   "outputs": [
    {
     "data": {
      "text/plain": [
       "array([11.])"
      ]
     },
     "execution_count": 35,
     "metadata": {},
     "output_type": "execute_result"
    }
   ],
   "source": [
    "IQR"
   ]
  },
  {
   "cell_type": "code",
   "execution_count": 36,
   "id": "f71d5970",
   "metadata": {},
   "outputs": [],
   "source": [
    "lower_fence = percen_25 - 1.5 * (IQR)\n",
    "higher_fence = percen_75 + 1.5 * (IQR)"
   ]
  },
  {
   "cell_type": "code",
   "execution_count": 37,
   "id": "725d2b2f",
   "metadata": {},
   "outputs": [
    {
     "data": {
      "text/plain": [
       "(array([1.5]), array([45.5]))"
      ]
     },
     "execution_count": 37,
     "metadata": {},
     "output_type": "execute_result"
    }
   ],
   "source": [
    "lower_fence, higher_fence"
   ]
  },
  {
   "cell_type": "code",
   "execution_count": 38,
   "id": "d7c72aa0",
   "metadata": {},
   "outputs": [
    {
     "name": "stderr",
     "output_type": "stream",
     "text": [
      "C:\\Users\\ts-sachin.bhumihar\\Anaconda3\\lib\\site-packages\\seaborn\\_decorators.py:36: FutureWarning: Pass the following variable as a keyword arg: x. From version 0.12, the only valid positional argument will be `data`, and passing other arguments without an explicit keyword will result in an error or misinterpretation.\n",
      "  warnings.warn(\n"
     ]
    },
    {
     "data": {
      "text/plain": [
       "<AxesSubplot:>"
      ]
     },
     "execution_count": 38,
     "metadata": {},
     "output_type": "execute_result"
    },
    {
     "data": {
      "image/png": "[encoded data removed]",
      "text/plain": [
       "<Figure size 432x288 with 1 Axes>"
      ]
     },
     "metadata": {
      "needs_background": "light"
     },
     "output_type": "display_data"
    }
   ],
   "source": [
    "# box-plot for age1\n",
    "sns.boxplot(age1)"
   ]
  },
  {
   "cell_type": "code",
   "execution_count": null,
   "id": "395c8e24",
   "metadata": {},
   "outputs": [],
   "source": []
  }
 ],
 "metadata": {
  "kernelspec": {
   "display_name": "Python 3 (ipykernel)",
   "language": "python",
   "name": "python3"
  },
  "language_info": {
   "codemirror_mode": {
    "name": "ipython",
    "version": 3
   },
   "file_extension": ".py",
   "mimetype": "text/x-python",
   "name": "python",
   "nbconvert_exporter": "python",
   "pygments_lexer": "ipython3",
   "version": "3.9.7"
  }
 },
 "nbformat": 4,
 "nbformat_minor": 5
}
